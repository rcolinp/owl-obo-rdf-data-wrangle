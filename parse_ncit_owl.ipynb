{
 "cells": [
  {
   "cell_type": "code",
   "execution_count": 3,
   "metadata": {},
   "outputs": [],
   "source": [
    "import time\n",
    "import rdflib\n",
    "\n",
    "\n",
    "class NciThesaurusTools(object):\n",
    "    \"\"\"A class to provide a toolkit for working with OWL, OWL2 & OBO files\"\"\"\n",
    "\n",
    "    @staticmethod\n",
    "    def _parse_owl(inputfile: str) -> rdflib.graph.Graph():\n",
    "        \"\"\"\n",
    "        Summary:\n",
    "        --------\n",
    "        A semantically related method to the class, to be used as a reproducible means\n",
    "        to parse an OWL to XML.\n",
    "        Parameters:\n",
    "        -----------\n",
    "        inputfile : str.\n",
    "            inputfile NCI Thesaurus OWL file that is to be parsed.\n",
    "        Returns:\n",
    "        --------\n",
    "        graph : rdflib.graph.Graph.\n",
    "            A live RDF graph instance of the NCI Thesaurus's release.\n",
    "        \"\"\"\n",
    "        try:\n",
    "            # OWL2 parsing will take ~700-950 seconds ()\n",
    "            start_time = time.time()\n",
    "            graph = rdflib.Graph()\n",
    "            print(\"Begin to parse OWL inputfile...\")\n",
    "            # Need to bind prefix --> if not, result serialization will result in a prefix of just ':'\n",
    "            graph.namespace_manager.bind(\n",
    "                'ncit', 'http://ncicb.nci.nih.gov/xml/owl/EVS/Thesaurus.owl#')\n",
    "            graph = graph.parse(inputfile, format='xml')\n",
    "            end_time = time.time()\n",
    "            print(\"Successfully completed parsing OWL in: {} \".format(\n",
    "                end_time-start_time))\n",
    "        except Exception as e:\n",
    "            raise Exception(e)\n",
    "\n",
    "        return graph\n"
   ]
  },
  {
   "cell_type": "code",
   "execution_count": 4,
   "metadata": {},
   "outputs": [
    {
     "name": "stdout",
     "output_type": "stream",
     "text": [
      "Begin to parse OWL inputfile...\n",
      "Successfully completed parsing OWL in: 968.8714940547943 \n"
     ]
    },
    {
     "data": {
      "text/plain": [
       "8325062"
      ]
     },
     "execution_count": 4,
     "metadata": {},
     "output_type": "execute_result"
    }
   ],
   "source": [
    "# Parse OWL file (Thesaurus.owl) to XML (This can take ~10 minutes)\n",
    "# Store live RDF graph instance as 'g'\n",
    "parser = NciThesaurusTools()\n",
    "g = parser._parse_owl(inputfile='./input_data/Thesaurus.owl')\n",
    "len(g)"
   ]
  },
  {
   "cell_type": "code",
   "execution_count": null,
   "metadata": {},
   "outputs": [],
   "source": [
    "%%time\n",
    "# Output a turtle serialization of the live RDF graph instance to same directory as input OWL\n",
    "# This can take ~10 minutes\n",
    "g.serialize(destination='./output_data/ncit_serialized.ttl', format='turtle')"
   ]
  },
  {
   "cell_type": "code",
   "execution_count": null,
   "metadata": {},
   "outputs": [],
   "source": [
    "# # Serialization to JSON-LD is supported & can be done as follows:\n",
    "# g.serialize(destination='./output_data/ncit_serialized_jsonld.jsonld', \n",
    "#             format='json-ld', \n",
    "#             indent=2)"
   ]
  },
  {
   "cell_type": "code",
   "execution_count": 2,
   "metadata": {},
   "outputs": [],
   "source": [
    "# # What are the prefixes & namespaces in the graph?\n",
    "# for namespace in g.namespaces():\n",
    "#     print(namespace)"
   ]
  },
  {
   "cell_type": "code",
   "execution_count": null,
   "metadata": {},
   "outputs": [],
   "source": [
    "test_sparql = '''SELECT DISTINCT ?p\n",
    "                 WHERE {\n",
    "                         ?s ?p ?o .\n",
    "                     } LIMIT 15'''\n",
    "result = g.query(test_sparql)\n",
    "for x in result:\n",
    "    print(x, '\\n')"
   ]
  },
  {
   "cell_type": "code",
   "execution_count": null,
   "metadata": {},
   "outputs": [],
   "source": [
    "# Build a function to print out the first several triples (limit set to 50)\n",
    "def printtriples(graph, limit):\n",
    "    n = 0\n",
    "    for trip in graph:\n",
    "        print(trip)\n",
    "        print('')\n",
    "        n = n+1\n",
    "        if n >= limit:\n",
    "            break\n",
    "\n",
    "\n",
    "printtriples(g, 50)"
   ]
  },
  {
   "cell_type": "code",
   "execution_count": null,
   "metadata": {},
   "outputs": [],
   "source": [
    "def printtriples(graph, limit):\n",
    "    n = 0\n",
    "    for subj, pred, obj in graph:\n",
    "        print(subj)\n",
    "        print(pred)\n",
    "        print(obj)\n",
    "        print('')\n",
    "        if limit > 0:\n",
    "            n = n+1\n",
    "            if n == limit:\n",
    "                break\n",
    "\n",
    "\n",
    "printtriples(g, 10)"
   ]
  },
  {
   "cell_type": "code",
   "execution_count": null,
   "metadata": {},
   "outputs": [],
   "source": [
    "# SPARQL query to collect all predicates within graph\n",
    "predicates = '''SELECT DISTINCT ?predicate\n",
    "                WHERE { \n",
    "                        ?subject\n",
    "                        ?predicate\n",
    "                        ?object\n",
    "                        }'''\n",
    "\n",
    "# Run the query predicates, and save the results in variable result\n",
    "result = g.query(predicates)\n",
    "\n",
    "# Print all results\n",
    "for row in result:\n",
    "    print(row[0])\n",
    "    print()"
   ]
  },
  {
   "cell_type": "code",
   "execution_count": null,
   "metadata": {},
   "outputs": [],
   "source": [
    "# Find all predicates associated with 'C62554' -> Parp Inhibitor & 'C71721' -> Olaparib\n",
    "parp = '''SELECT DISTINCT ?predicate\n",
    "          WHERE { \n",
    "            obo:NCIT_C62554 ?predicate ?object .\n",
    "        }'''\n",
    "\n",
    "# Run the query q1, and save the results in variable r1\n",
    "result = g.query(parp)\n",
    "\n",
    "# Print the results\n",
    "for x in result:\n",
    "    print(x[0], '\\n')\n",
    "    print()\n"
   ]
  }
 ],
 "metadata": {
  "interpreter": {
   "hash": "58c6d7400f6efa9b3e38d0a05db420dfc1a6d7934609460d456c93b210897845"
  },
  "kernelspec": {
   "display_name": "Python 3 (ipykernel)",
   "language": "python",
   "name": "python3"
  },
  "language_info": {
   "codemirror_mode": {
    "name": "ipython",
    "version": 3
   },
   "file_extension": ".py",
   "mimetype": "text/x-python",
   "name": "python",
   "nbconvert_exporter": "python",
   "pygments_lexer": "ipython3",
   "version": "3.7.10"
  }
 },
 "nbformat": 4,
 "nbformat_minor": 2
}
